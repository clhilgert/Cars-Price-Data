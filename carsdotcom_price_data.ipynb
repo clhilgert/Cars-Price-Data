{
  "nbformat": 4,
  "nbformat_minor": 0,
  "metadata": {
    "colab": {
      "provenance": []
    },
    "kernelspec": {
      "name": "python3",
      "display_name": "Python 3"
    },
    "language_info": {
      "name": "python"
    }
  },
  "cells": [
    {
      "cell_type": "markdown",
      "source": [
        "## imports"
      ],
      "metadata": {
        "id": "95AIXZps1Ppa"
      }
    },
    {
      "cell_type": "code",
      "execution_count": 12,
      "metadata": {
        "id": "Xdpx55Nu1HCA"
      },
      "outputs": [],
      "source": [
        "from bs4 import BeautifulSoup\n",
        "import requests\n",
        "import pandas as pd\n",
        "import numpy as np\n",
        "import matplotlib.pyplot as plt"
      ]
    },
    {
      "cell_type": "markdown",
      "source": [
        "## cars.com -- use desired search parameters (best to use a range of years), scroll down and select \"100 results per page\", copy links into 'links' list as strings."
      ],
      "metadata": {
        "id": "lYUeP9ig3aYE"
      }
    },
    {
      "cell_type": "code",
      "source": [
        "links = ['https://www.cars.com/shopping/results/?list_price_max=&makes[]=honda&maximum_distance=all&models[]=honda-civic&page=1&page_size=100&stock_type=all&zip='\n",
        "'https://www.cars.com/shopping/results/?page=2&page_size=100&list_price_max=&makes[]=honda&maximum_distance=all&models[]=honda-civic&stock_type=all&zip='\n",
        "'https://www.cars.com/shopping/results/?page=3&page_size=100&list_price_max=&makes[]=honda&maximum_distance=all&models[]=honda-civic&stock_type=all&zip='\n",
        "'https://www.cars.com/shopping/results/?page=4&page_size=100&list_price_max=&makes[]=honda&maximum_distance=all&models[]=honda-civic&stock_type=all&zip='\n",
        "'https://www.cars.com/shopping/results/?page=5&page_size=100&list_price_max=&makes[]=honda&maximum_distance=all&models[]=honda-civic&stock_type=all&zip=']"
      ],
      "metadata": {
        "id": "OvoWSc7D1oOL"
      },
      "execution_count": 13,
      "outputs": []
    },
    {
      "cell_type": "markdown",
      "source": [
        "## cleaning data and creating dataframe"
      ],
      "metadata": {
        "id": "DXj-G45X3gqY"
      }
    },
    {
      "cell_type": "code",
      "source": [
        "cleaned_prices = []\n",
        "cleaned_titles = []\n",
        "for link in links:\n",
        "    response = requests.get(link)\n",
        "    soup = BeautifulSoup(response.text, 'html.parser')\n",
        "    prices = [span.text for span in soup.find_all('span', {'class': 'primary-price'})]\n",
        "    for price in prices:\n",
        "        try:\n",
        "            cleaned_price = int(price.replace(',', '').replace('$', ''))\n",
        "            cleaned_prices.append(cleaned_price)\n",
        "        except ValueError:\n",
        "            cleaned_prices.append(np.nan)\n",
        "\n",
        "    titles = soup.find_all('h2', {'class': \"title\"})\n",
        "    cleaned_titles.extend([title.text for title in titles])\n",
        "    \n",
        "df = pd.DataFrame({'Price': cleaned_prices, 'Model Name': cleaned_titles})\n",
        "df['Year'] = df['Model Name'].str.extract(r'(\\d{4})').astype(int)\n",
        "df['Model Name'] = df['Model Name'].str.replace(r'(\\d{4})', '')"
      ],
      "metadata": {
        "colab": {
          "base_uri": "https://localhost:8080/"
        },
        "id": "2R8-Q2Ng2Rzc",
        "outputId": "ca04a6bd-613e-4c35-e73f-b9741d8d2790"
      },
      "execution_count": 14,
      "outputs": [
        {
          "output_type": "stream",
          "name": "stderr",
          "text": [
            "<ipython-input-14-5d1705dfa93f>:19: FutureWarning: The default value of regex will change from True to False in a future version.\n",
            "  df['Model Name'] = df['Model Name'].str.replace(r'(\\d{4})', '')\n"
          ]
        }
      ]
    },
    {
      "cell_type": "markdown",
      "source": [
        "## data analysis"
      ],
      "metadata": {
        "id": "yhl12dfC3q0J"
      }
    },
    {
      "cell_type": "markdown",
      "source": [
        "\"Average Price by Year\" Bar Graph"
      ],
      "metadata": {
        "id": "NRPNHf4S3tW_"
      }
    },
    {
      "cell_type": "code",
      "source": [
        "grouped = df.groupby('Year').mean()\n",
        "plt.bar(grouped.index, grouped['Price'])\n",
        "plt.xlabel('Year')\n",
        "plt.ylabel('Average Price')\n",
        "plt.title('Average Price by Year')\n",
        "plt.xticks(np.arange(min(grouped.index), max(grouped.index)+1, 1), rotation=45)\n",
        "plt.show()"
      ],
      "metadata": {
        "colab": {
          "base_uri": "https://localhost:8080/",
          "height": 310
        },
        "id": "E5cJm_Oc2gAP",
        "outputId": "7838987c-cb22-47b2-dc3a-6dad2a3e85ec"
      },
      "execution_count": 15,
      "outputs": [
        {
          "output_type": "display_data",
          "data": {
            "text/plain": [
              "<Figure size 432x288 with 1 Axes>"
            ],
            "image/png": "[encoded data removed]"
          },
          "metadata": {
            "needs_background": "light"
          }
        }
      ]
    },
    {
      "cell_type": "markdown",
      "source": [
        "\"Price Distribution\" Histogram"
      ],
      "metadata": {
        "id": "bs1zroq83vXp"
      }
    },
    {
      "cell_type": "code",
      "source": [
        "plt.hist(df['Price'], bins=50, edgecolor='black')\n",
        "plt.xlabel('Price')\n",
        "plt.ylabel('Frequency')\n",
        "plt.title('Price Distribution')\n",
        "plt.show()"
      ],
      "metadata": {
        "colab": {
          "base_uri": "https://localhost:8080/",
          "height": 295
        },
        "id": "kQUIlK9W2kd9",
        "outputId": "ea861480-b949-439c-a2bc-e5e4c35c3f0c"
      },
      "execution_count": 16,
      "outputs": [
        {
          "output_type": "display_data",
          "data": {
            "text/plain": [
              "<Figure size 432x288 with 1 Axes>"
            ],
            "image/png": "[encoded data removed]"
          },
          "metadata": {
            "needs_background": "light"
          }
        }
      ]
    },
    {
      "cell_type": "markdown",
      "source": [
        "\"Model Name Counts\" Horizontal Bar Graph"
      ],
      "metadata": {
        "id": "efXLokns32rR"
      }
    },
    {
      "cell_type": "code",
      "source": [
        "model_counts = df['Model Name'].value_counts()\n",
        "plt.barh(model_counts.index, model_counts.values)\n",
        "plt.xlabel('Number of Occurrences')\n",
        "plt.ylabel('Model Name')\n",
        "plt.title('Model Name Counts')\n",
        "plt.show()"
      ],
      "metadata": {
        "colab": {
          "base_uri": "https://localhost:8080/",
          "height": 295
        },
        "id": "PVRSjg4d2nfQ",
        "outputId": "cf95a94c-8d8a-429e-a6a5-b9f7c5c56eb4"
      },
      "execution_count": 17,
      "outputs": [
        {
          "output_type": "display_data",
          "data": {
            "text/plain": [
              "<Figure size 432x288 with 1 Axes>"
            ],
            "image/png": "[encoded data removed]"
          },
          "metadata": {
            "needs_background": "light"
          }
        }
      ]
    },
    {
      "cell_type": "markdown",
      "source": [
        "\"Price vs Year\" Scatter Plot"
      ],
      "metadata": {
        "id": "3ILtbAIU3631"
      }
    },
    {
      "cell_type": "code",
      "source": [
        "plt.scatter(df['Year'], df['Price'])\n",
        "plt.xlabel('Year')\n",
        "plt.ylabel('Price')\n",
        "plt.title('Price vs Year')\n",
        "plt.show()"
      ],
      "metadata": {
        "colab": {
          "base_uri": "https://localhost:8080/",
          "height": 295
        },
        "id": "sWeo6dfR2pNm",
        "outputId": "757f29bc-8b16-4115-d1bd-c800365e8edb"
      },
      "execution_count": 18,
      "outputs": [
        {
          "output_type": "display_data",
          "data": {
            "text/plain": [
              "<Figure size 432x288 with 1 Axes>"
            ],
            "image/png": "[encoded data removed]"
          },
          "metadata": {
            "needs_background": "light"
          }
        }
      ]
    }
  ]
}